{
 "cells": [
  {
   "cell_type": "markdown",
   "metadata": {},
   "source": [
    "# Árbol de decision para especies de flores"
   ]
  },
  {
   "cell_type": "code",
   "execution_count": 17,
   "metadata": {},
   "outputs": [],
   "source": [
    "import numpy as np\n",
    "import pandas as pd\n",
    "import matplotlib.pyplot as plt"
   ]
  },
  {
   "cell_type": "code",
   "execution_count": 61,
   "metadata": {},
   "outputs": [
    {
     "name": "stdout",
     "output_type": "stream",
     "text": [
      "Collecting package metadata (current_repodata.json): ...working... done\n",
      "Solving environment: ...working... done\n",
      "\n",
      "## Package Plan ##\n",
      "\n",
      "  environment location: C:\\Users\\Megaport\\Anaconda3\n",
      "\n",
      "  added / updated specs:\n",
      "    - scikit-learn\n",
      "\n",
      "\n",
      "The following packages will be downloaded:\n",
      "\n",
      "    package                    |            build\n",
      "    ---------------------------|-----------------\n",
      "    conda-4.7.12               |           py37_0         3.0 MB\n",
      "    ------------------------------------------------------------\n",
      "                                           Total:         3.0 MB\n",
      "\n",
      "The following packages will be UPDATED:\n",
      "\n",
      "  conda                                       4.7.10-py37_0 --> 4.7.12-py37_0\n",
      "\n",
      "\n",
      "\n",
      "Downloading and Extracting Packages\n",
      "\n",
      "conda-4.7.12         | 3.0 MB    |            |   0% \n",
      "conda-4.7.12         | 3.0 MB    |            |   1% \n",
      "conda-4.7.12         | 3.0 MB    | #          |  11% \n",
      "conda-4.7.12         | 3.0 MB    | ##9        |  29% \n",
      "conda-4.7.12         | 3.0 MB    | ####5      |  45% \n",
      "conda-4.7.12         | 3.0 MB    | ######5    |  65% \n",
      "conda-4.7.12         | 3.0 MB    | ########3  |  83% \n",
      "conda-4.7.12         | 3.0 MB    | #########8 |  99% \n",
      "conda-4.7.12         | 3.0 MB    | ########## | 100% \n",
      "Preparing transaction: ...working... done\n",
      "Verifying transaction: ...working... done\n",
      "Executing transaction: ...working... done\n",
      "\n",
      "Note: you may need to restart the kernel to use updated packages.\n"
     ]
    }
   ],
   "source": [
    "conda install scikit-learn"
   ]
  },
  {
   "cell_type": "code",
   "execution_count": 7,
   "metadata": {},
   "outputs": [
    {
     "data": {
      "text/html": [
       "<div>\n",
       "<style scoped>\n",
       "    .dataframe tbody tr th:only-of-type {\n",
       "        vertical-align: middle;\n",
       "    }\n",
       "\n",
       "    .dataframe tbody tr th {\n",
       "        vertical-align: top;\n",
       "    }\n",
       "\n",
       "    .dataframe thead th {\n",
       "        text-align: right;\n",
       "    }\n",
       "</style>\n",
       "<table border=\"1\" class=\"dataframe\">\n",
       "  <thead>\n",
       "    <tr style=\"text-align: right;\">\n",
       "      <th></th>\n",
       "      <th>Sepal.Length</th>\n",
       "      <th>Sepal.Width</th>\n",
       "      <th>Petal.Length</th>\n",
       "      <th>Petal.Width</th>\n",
       "      <th>Species</th>\n",
       "    </tr>\n",
       "  </thead>\n",
       "  <tbody>\n",
       "    <tr>\n",
       "      <th>0</th>\n",
       "      <td>5.1</td>\n",
       "      <td>3.5</td>\n",
       "      <td>1.4</td>\n",
       "      <td>0.2</td>\n",
       "      <td>setosa</td>\n",
       "    </tr>\n",
       "    <tr>\n",
       "      <th>1</th>\n",
       "      <td>4.9</td>\n",
       "      <td>3.0</td>\n",
       "      <td>1.4</td>\n",
       "      <td>0.2</td>\n",
       "      <td>setosa</td>\n",
       "    </tr>\n",
       "    <tr>\n",
       "      <th>2</th>\n",
       "      <td>4.7</td>\n",
       "      <td>3.2</td>\n",
       "      <td>1.3</td>\n",
       "      <td>0.2</td>\n",
       "      <td>setosa</td>\n",
       "    </tr>\n",
       "    <tr>\n",
       "      <th>3</th>\n",
       "      <td>4.6</td>\n",
       "      <td>3.1</td>\n",
       "      <td>1.5</td>\n",
       "      <td>0.2</td>\n",
       "      <td>setosa</td>\n",
       "    </tr>\n",
       "    <tr>\n",
       "      <th>4</th>\n",
       "      <td>5.0</td>\n",
       "      <td>3.6</td>\n",
       "      <td>1.4</td>\n",
       "      <td>0.2</td>\n",
       "      <td>setosa</td>\n",
       "    </tr>\n",
       "  </tbody>\n",
       "</table>\n",
       "</div>"
      ],
      "text/plain": [
       "   Sepal.Length  Sepal.Width  Petal.Length  Petal.Width Species\n",
       "0           5.1          3.5           1.4          0.2  setosa\n",
       "1           4.9          3.0           1.4          0.2  setosa\n",
       "2           4.7          3.2           1.3          0.2  setosa\n",
       "3           4.6          3.1           1.5          0.2  setosa\n",
       "4           5.0          3.6           1.4          0.2  setosa"
      ]
     },
     "execution_count": 7,
     "metadata": {},
     "output_type": "execute_result"
    }
   ],
   "source": [
    "data = pd.read_csv(\"C:/Users/Megaport/Desktop/python/datos machine learning/iris/iris.csv\")\n",
    "data.head()"
   ]
  },
  {
   "cell_type": "code",
   "execution_count": 8,
   "metadata": {},
   "outputs": [
    {
     "data": {
      "text/plain": [
       "(150, 5)"
      ]
     },
     "execution_count": 8,
     "metadata": {},
     "output_type": "execute_result"
    }
   ],
   "source": [
    "data.shape"
   ]
  },
  {
   "cell_type": "code",
   "execution_count": 26,
   "metadata": {},
   "outputs": [
    {
     "data": {
      "text/plain": [
       "<matplotlib.axes._subplots.AxesSubplot at 0x25eabdfca58>"
      ]
     },
     "execution_count": 26,
     "metadata": {},
     "output_type": "execute_result"
    },
    {
     "data": {
      "image/png": "[encoded data removed]",
      "text/plain": [
       "<Figure size 432x288 with 1 Axes>"
      ]
     },
     "metadata": {
      "needs_background": "light"
     },
     "output_type": "display_data"
    }
   ],
   "source": [
    "plt.hist(data.Species.astype(np.str))# Como no me deja hacer el histograma así lo hacemos con pandas\n",
    "pd.Series(data.Species).value_counts().plot('bar')#Este es el histograma creado con pandas"
   ]
  },
  {
   "cell_type": "code",
   "execution_count": 10,
   "metadata": {},
   "outputs": [
    {
     "data": {
      "text/plain": [
       "array(['setosa', 'versicolor', 'virginica'], dtype=object)"
      ]
     },
     "execution_count": 10,
     "metadata": {},
     "output_type": "execute_result"
    }
   ],
   "source": [
    "data.Species.unique()"
   ]
  },
  {
   "cell_type": "code",
   "execution_count": 13,
   "metadata": {},
   "outputs": [],
   "source": [
    "colnames = data.columns.values.tolist()\n",
    "predictors = colnames[:4]\n",
    "target = colnames[4]"
   ]
  },
  {
   "cell_type": "code",
   "execution_count": 18,
   "metadata": {},
   "outputs": [],
   "source": [
    "data[\"is_train\"] = np.random.uniform(0,1, len(data))<=0.75"
   ]
  },
  {
   "cell_type": "code",
   "execution_count": 23,
   "metadata": {},
   "outputs": [
    {
     "data": {
      "text/plain": [
       "(array([ 38.,   0.,   0.,   0.,   0.,   0.,   0.,   0.,   0., 112.]),\n",
       " array([0. , 0.1, 0.2, 0.3, 0.4, 0.5, 0.6, 0.7, 0.8, 0.9, 1. ],\n",
       "       dtype=float32),\n",
       " <a list of 10 Patch objects>)"
      ]
     },
     "execution_count": 23,
     "metadata": {},
     "output_type": "execute_result"
    },
    {
     "data": {
      "image/png": "[encoded data removed]",
      "text/plain": [
       "<Figure size 432x288 with 1 Axes>"
      ]
     },
     "metadata": {
      "needs_background": "light"
     },
     "output_type": "display_data"
    }
   ],
   "source": [
    "plt.hist(data.is_train.astype(np.float32)) #EL histograma lo hemos pasado a float por que me daba error si no"
   ]
  },
  {
   "cell_type": "code",
   "execution_count": 27,
   "metadata": {},
   "outputs": [],
   "source": [
    "train, test = data[data[\"is_train\"]==True], data[data[\"is_train\"]==False]"
   ]
  },
  {
   "cell_type": "code",
   "execution_count": 28,
   "metadata": {},
   "outputs": [],
   "source": [
    "from sklearn.tree import DecisionTreeClassifier"
   ]
  },
  {
   "cell_type": "code",
   "execution_count": 30,
   "metadata": {},
   "outputs": [
    {
     "data": {
      "text/plain": [
       "DecisionTreeClassifier(class_weight=None, criterion='entropy', max_depth=None,\n",
       "                       max_features=None, max_leaf_nodes=None,\n",
       "                       min_impurity_decrease=0.0, min_impurity_split=None,\n",
       "                       min_samples_leaf=1, min_samples_split=20,\n",
       "                       min_weight_fraction_leaf=0.0, presort=False,\n",
       "                       random_state=99, splitter='best')"
      ]
     },
     "execution_count": 30,
     "metadata": {},
     "output_type": "execute_result"
    }
   ],
   "source": [
    "tree = DecisionTreeClassifier(criterion=\"entropy\", min_samples_split=20, random_state=99)\n",
    "tree.fit(train[predictors], train[target])"
   ]
  },
  {
   "cell_type": "code",
   "execution_count": 31,
   "metadata": {},
   "outputs": [],
   "source": [
    "preds = tree.predict(test[predictors])"
   ]
  },
  {
   "cell_type": "code",
   "execution_count": 32,
   "metadata": {},
   "outputs": [
    {
     "data": {
      "text/html": [
       "<div>\n",
       "<style scoped>\n",
       "    .dataframe tbody tr th:only-of-type {\n",
       "        vertical-align: middle;\n",
       "    }\n",
       "\n",
       "    .dataframe tbody tr th {\n",
       "        vertical-align: top;\n",
       "    }\n",
       "\n",
       "    .dataframe thead th {\n",
       "        text-align: right;\n",
       "    }\n",
       "</style>\n",
       "<table border=\"1\" class=\"dataframe\">\n",
       "  <thead>\n",
       "    <tr style=\"text-align: right;\">\n",
       "      <th>Predictions</th>\n",
       "      <th>setosa</th>\n",
       "      <th>versicolor</th>\n",
       "      <th>virginica</th>\n",
       "    </tr>\n",
       "    <tr>\n",
       "      <th>Actual</th>\n",
       "      <th></th>\n",
       "      <th></th>\n",
       "      <th></th>\n",
       "    </tr>\n",
       "  </thead>\n",
       "  <tbody>\n",
       "    <tr>\n",
       "      <th>setosa</th>\n",
       "      <td>13</td>\n",
       "      <td>0</td>\n",
       "      <td>0</td>\n",
       "    </tr>\n",
       "    <tr>\n",
       "      <th>versicolor</th>\n",
       "      <td>0</td>\n",
       "      <td>11</td>\n",
       "      <td>0</td>\n",
       "    </tr>\n",
       "    <tr>\n",
       "      <th>virginica</th>\n",
       "      <td>0</td>\n",
       "      <td>3</td>\n",
       "      <td>11</td>\n",
       "    </tr>\n",
       "  </tbody>\n",
       "</table>\n",
       "</div>"
      ],
      "text/plain": [
       "Predictions  setosa  versicolor  virginica\n",
       "Actual                                    \n",
       "setosa           13           0          0\n",
       "versicolor        0          11          0\n",
       "virginica         0           3         11"
      ]
     },
     "execution_count": 32,
     "metadata": {},
     "output_type": "execute_result"
    }
   ],
   "source": [
    "pd.crosstab(test[target], preds, rownames=[\"Actual\"], colnames=[\"Predictions\"])"
   ]
  },
  {
   "cell_type": "markdown",
   "metadata": {},
   "source": [
    "## Visualización del árbol de decisión"
   ]
  },
  {
   "cell_type": "code",
   "execution_count": 33,
   "metadata": {},
   "outputs": [],
   "source": [
    "from sklearn.tree import export_graphviz"
   ]
  },
  {
   "cell_type": "code",
   "execution_count": 35,
   "metadata": {},
   "outputs": [],
   "source": [
    "with open(\"C:/Users/Megaport/Desktop/python/datos machine learning/iris/iris_dtree.dot\", \"w\") as dotfile:\n",
    "    export_graphviz(tree, out_file=dotfile, feature_names=predictors)\n",
    "    dotfile.close()"
   ]
  },
  {
   "cell_type": "code",
   "execution_count": 49,
   "metadata": {},
   "outputs": [],
   "source": [
    "import os# se utiliza para abrir los textos en .doc\n",
    "os.environ[\"PATH\"] += os.pathsep + 'C:/Users/Megaport/Desktop/python/datos machine learning/iris/release/bin'\n",
    "from graphviz import Source"
   ]
  },
  {
   "cell_type": "code",
   "execution_count": 50,
   "metadata": {},
   "outputs": [
    {
     "data": {
      "text/plain": [
       "'digraph Tree {\\nnode [shape=box] ;\\n0 [label=\"Petal.Length <= 2.6\\\\nentropy = 1.584\\\\nsamples = 112\\\\nvalue = [37, 39, 36]\"] ;\\n1 [label=\"entropy = 0.0\\\\nsamples = 37\\\\nvalue = [37, 0, 0]\"] ;\\n0 -> 1 [labeldistance=2.5, labelangle=45, headlabel=\"True\"] ;\\n2 [label=\"Petal.Length <= 4.85\\\\nentropy = 0.999\\\\nsamples = 75\\\\nvalue = [0, 39, 36]\"] ;\\n0 -> 2 [labeldistance=2.5, labelangle=-45, headlabel=\"False\"] ;\\n3 [label=\"Sepal.Length <= 4.95\\\\nentropy = 0.179\\\\nsamples = 37\\\\nvalue = [0, 36, 1]\"] ;\\n2 -> 3 ;\\n4 [label=\"entropy = 1.0\\\\nsamples = 2\\\\nvalue = [0, 1, 1]\"] ;\\n3 -> 4 ;\\n5 [label=\"entropy = 0.0\\\\nsamples = 35\\\\nvalue = [0, 35, 0]\"] ;\\n3 -> 5 ;\\n6 [label=\"Petal.Width <= 1.75\\\\nentropy = 0.398\\\\nsamples = 38\\\\nvalue = [0, 3, 35]\"] ;\\n2 -> 6 ;\\n7 [label=\"entropy = 1.0\\\\nsamples = 6\\\\nvalue = [0, 3, 3]\"] ;\\n6 -> 7 ;\\n8 [label=\"entropy = 0.0\\\\nsamples = 32\\\\nvalue = [0, 0, 32]\"] ;\\n6 -> 8 ;\\n}'"
      ]
     },
     "execution_count": 50,
     "metadata": {},
     "output_type": "execute_result"
    }
   ],
   "source": [
    "file = open(\"C:/Users/Megaport/Desktop/python/datos machine learning/iris/iris_dtree.dot\", \"r\")\n",
    "text = file.read()\n",
    "text"
   ]
  },
  {
   "cell_type": "code",
   "execution_count": 51,
   "metadata": {},
   "outputs": [
    {
     "data": {
      "image/svg+xml": [
       "<?xml version=\"1.0\" encoding=\"UTF-8\" standalone=\"no\"?>\r\n",
       "<!DOCTYPE svg PUBLIC \"-//W3C//DTD SVG 1.1//EN\"\r\n",
       " \"http://www.w3.org/Graphics/SVG/1.1/DTD/svg11.dtd\">\r\n",
       "<!-- Generated by graphviz version 2.38.0 (20140413.2041)\r\n",
       " -->\r\n",
       "<!-- Title: Tree Pages: 1 -->\r\n",
       "<svg width=\"510pt\" height=\"373pt\"\r\n",
       " viewBox=\"0.00 0.00 509.50 373.00\" xmlns=\"http://www.w3.org/2000/svg\" xmlns:xlink=\"http://www.w3.org/1999/xlink\">\r\n",
       "<g id=\"graph0\" class=\"graph\" transform=\"scale(1 1) rotate(0) translate(4 369)\">\r\n",
       "<title>Tree</title>\r\n",
       "<polygon fill=\"white\" stroke=\"none\" points=\"-4,4 -4,-369 505.5,-369 505.5,4 -4,4\"/>\r\n",
       "<!-- 0 -->\r\n",
       "<g id=\"node1\" class=\"node\"><title>0</title>\r\n",
       "<polygon fill=\"none\" stroke=\"black\" points=\"241,-365 114,-365 114,-297 241,-297 241,-365\"/>\r\n",
       "<text text-anchor=\"middle\" x=\"177.5\" y=\"-349.8\" font-family=\"Times New Roman,serif\" font-size=\"14.00\">Petal.Length &lt;= 2.6</text>\r\n",
       "<text text-anchor=\"middle\" x=\"177.5\" y=\"-334.8\" font-family=\"Times New Roman,serif\" font-size=\"14.00\">entropy = 1.584</text>\r\n",
       "<text text-anchor=\"middle\" x=\"177.5\" y=\"-319.8\" font-family=\"Times New Roman,serif\" font-size=\"14.00\">samples = 112</text>\r\n",
       "<text text-anchor=\"middle\" x=\"177.5\" y=\"-304.8\" font-family=\"Times New Roman,serif\" font-size=\"14.00\">value = [37, 39, 36]</text>\r\n",
       "</g>\r\n",
       "<!-- 1 -->\r\n",
       "<g id=\"node2\" class=\"node\"><title>1</title>\r\n",
       "<polygon fill=\"none\" stroke=\"black\" points=\"163.5,-253.5 51.5,-253.5 51.5,-200.5 163.5,-200.5 163.5,-253.5\"/>\r\n",
       "<text text-anchor=\"middle\" x=\"107.5\" y=\"-238.3\" font-family=\"Times New Roman,serif\" font-size=\"14.00\">entropy = 0.0</text>\r\n",
       "<text text-anchor=\"middle\" x=\"107.5\" y=\"-223.3\" font-family=\"Times New Roman,serif\" font-size=\"14.00\">samples = 37</text>\r\n",
       "<text text-anchor=\"middle\" x=\"107.5\" y=\"-208.3\" font-family=\"Times New Roman,serif\" font-size=\"14.00\">value = [37, 0, 0]</text>\r\n",
       "</g>\r\n",
       "<!-- 0&#45;&gt;1 -->\r\n",
       "<g id=\"edge1\" class=\"edge\"><title>0&#45;&gt;1</title>\r\n",
       "<path fill=\"none\" stroke=\"black\" d=\"M154.773,-296.884C147.074,-285.666 138.469,-273.126 130.732,-261.852\"/>\r\n",
       "<polygon fill=\"black\" stroke=\"black\" points=\"133.558,-259.785 125.014,-253.52 127.786,-263.746 133.558,-259.785\"/>\r\n",
       "<text text-anchor=\"middle\" x=\"120.441\" y=\"-274.398\" font-family=\"Times New Roman,serif\" font-size=\"14.00\">True</text>\r\n",
       "</g>\r\n",
       "<!-- 2 -->\r\n",
       "<g id=\"node3\" class=\"node\"><title>2</title>\r\n",
       "<polygon fill=\"none\" stroke=\"black\" points=\"315.5,-261 181.5,-261 181.5,-193 315.5,-193 315.5,-261\"/>\r\n",
       "<text text-anchor=\"middle\" x=\"248.5\" y=\"-245.8\" font-family=\"Times New Roman,serif\" font-size=\"14.00\">Petal.Length &lt;= 4.85</text>\r\n",
       "<text text-anchor=\"middle\" x=\"248.5\" y=\"-230.8\" font-family=\"Times New Roman,serif\" font-size=\"14.00\">entropy = 0.999</text>\r\n",
       "<text text-anchor=\"middle\" x=\"248.5\" y=\"-215.8\" font-family=\"Times New Roman,serif\" font-size=\"14.00\">samples = 75</text>\r\n",
       "<text text-anchor=\"middle\" x=\"248.5\" y=\"-200.8\" font-family=\"Times New Roman,serif\" font-size=\"14.00\">value = [0, 39, 36]</text>\r\n",
       "</g>\r\n",
       "<!-- 0&#45;&gt;2 -->\r\n",
       "<g id=\"edge2\" class=\"edge\"><title>0&#45;&gt;2</title>\r\n",
       "<path fill=\"none\" stroke=\"black\" d=\"M200.552,-296.884C206.628,-288.154 213.261,-278.625 219.603,-269.514\"/>\r\n",
       "<polygon fill=\"black\" stroke=\"black\" points=\"222.481,-271.506 225.321,-261.299 216.735,-267.507 222.481,-271.506\"/>\r\n",
       "<text text-anchor=\"middle\" x=\"229.731\" y=\"-282.207\" font-family=\"Times New Roman,serif\" font-size=\"14.00\">False</text>\r\n",
       "</g>\r\n",
       "<!-- 3 -->\r\n",
       "<g id=\"node4\" class=\"node\"><title>3</title>\r\n",
       "<polygon fill=\"none\" stroke=\"black\" points=\"241,-157 104,-157 104,-89 241,-89 241,-157\"/>\r\n",
       "<text text-anchor=\"middle\" x=\"172.5\" y=\"-141.8\" font-family=\"Times New Roman,serif\" font-size=\"14.00\">Sepal.Length &lt;= 4.95</text>\r\n",
       "<text text-anchor=\"middle\" x=\"172.5\" y=\"-126.8\" font-family=\"Times New Roman,serif\" font-size=\"14.00\">entropy = 0.179</text>\r\n",
       "<text text-anchor=\"middle\" x=\"172.5\" y=\"-111.8\" font-family=\"Times New Roman,serif\" font-size=\"14.00\">samples = 37</text>\r\n",
       "<text text-anchor=\"middle\" x=\"172.5\" y=\"-96.8\" font-family=\"Times New Roman,serif\" font-size=\"14.00\">value = [0, 36, 1]</text>\r\n",
       "</g>\r\n",
       "<!-- 2&#45;&gt;3 -->\r\n",
       "<g id=\"edge3\" class=\"edge\"><title>2&#45;&gt;3</title>\r\n",
       "<path fill=\"none\" stroke=\"black\" d=\"M223.825,-192.884C217.321,-184.154 210.22,-174.625 203.432,-165.514\"/>\r\n",
       "<polygon fill=\"black\" stroke=\"black\" points=\"206.093,-163.227 197.311,-157.299 200.48,-167.409 206.093,-163.227\"/>\r\n",
       "</g>\r\n",
       "<!-- 6 -->\r\n",
       "<g id=\"node7\" class=\"node\"><title>6</title>\r\n",
       "<polygon fill=\"none\" stroke=\"black\" points=\"389.5,-157 259.5,-157 259.5,-89 389.5,-89 389.5,-157\"/>\r\n",
       "<text text-anchor=\"middle\" x=\"324.5\" y=\"-141.8\" font-family=\"Times New Roman,serif\" font-size=\"14.00\">Petal.Width &lt;= 1.75</text>\r\n",
       "<text text-anchor=\"middle\" x=\"324.5\" y=\"-126.8\" font-family=\"Times New Roman,serif\" font-size=\"14.00\">entropy = 0.398</text>\r\n",
       "<text text-anchor=\"middle\" x=\"324.5\" y=\"-111.8\" font-family=\"Times New Roman,serif\" font-size=\"14.00\">samples = 38</text>\r\n",
       "<text text-anchor=\"middle\" x=\"324.5\" y=\"-96.8\" font-family=\"Times New Roman,serif\" font-size=\"14.00\">value = [0, 3, 35]</text>\r\n",
       "</g>\r\n",
       "<!-- 2&#45;&gt;6 -->\r\n",
       "<g id=\"edge6\" class=\"edge\"><title>2&#45;&gt;6</title>\r\n",
       "<path fill=\"none\" stroke=\"black\" d=\"M273.175,-192.884C279.679,-184.154 286.78,-174.625 293.568,-165.514\"/>\r\n",
       "<polygon fill=\"black\" stroke=\"black\" points=\"296.52,-167.409 299.689,-157.299 290.907,-163.227 296.52,-167.409\"/>\r\n",
       "</g>\r\n",
       "<!-- 4 -->\r\n",
       "<g id=\"node5\" class=\"node\"><title>4</title>\r\n",
       "<polygon fill=\"none\" stroke=\"black\" points=\"105,-53 0,-53 0,-0 105,-0 105,-53\"/>\r\n",
       "<text text-anchor=\"middle\" x=\"52.5\" y=\"-37.8\" font-family=\"Times New Roman,serif\" font-size=\"14.00\">entropy = 1.0</text>\r\n",
       "<text text-anchor=\"middle\" x=\"52.5\" y=\"-22.8\" font-family=\"Times New Roman,serif\" font-size=\"14.00\">samples = 2</text>\r\n",
       "<text text-anchor=\"middle\" x=\"52.5\" y=\"-7.8\" font-family=\"Times New Roman,serif\" font-size=\"14.00\">value = [0, 1, 1]</text>\r\n",
       "</g>\r\n",
       "<!-- 3&#45;&gt;4 -->\r\n",
       "<g id=\"edge4\" class=\"edge\"><title>3&#45;&gt;4</title>\r\n",
       "<path fill=\"none\" stroke=\"black\" d=\"M130.53,-88.9485C118.449,-79.4346 105.292,-69.074 93.2842,-59.6175\"/>\r\n",
       "<polygon fill=\"black\" stroke=\"black\" points=\"95.2033,-56.6739 85.1815,-53.2367 90.8725,-62.1734 95.2033,-56.6739\"/>\r\n",
       "</g>\r\n",
       "<!-- 5 -->\r\n",
       "<g id=\"node6\" class=\"node\"><title>5</title>\r\n",
       "<polygon fill=\"none\" stroke=\"black\" points=\"235.5,-53 123.5,-53 123.5,-0 235.5,-0 235.5,-53\"/>\r\n",
       "<text text-anchor=\"middle\" x=\"179.5\" y=\"-37.8\" font-family=\"Times New Roman,serif\" font-size=\"14.00\">entropy = 0.0</text>\r\n",
       "<text text-anchor=\"middle\" x=\"179.5\" y=\"-22.8\" font-family=\"Times New Roman,serif\" font-size=\"14.00\">samples = 35</text>\r\n",
       "<text text-anchor=\"middle\" x=\"179.5\" y=\"-7.8\" font-family=\"Times New Roman,serif\" font-size=\"14.00\">value = [0, 35, 0]</text>\r\n",
       "</g>\r\n",
       "<!-- 3&#45;&gt;5 -->\r\n",
       "<g id=\"edge5\" class=\"edge\"><title>3&#45;&gt;5</title>\r\n",
       "<path fill=\"none\" stroke=\"black\" d=\"M174.948,-88.9485C175.558,-80.7153 176.215,-71.848 176.835,-63.4814\"/>\r\n",
       "<polygon fill=\"black\" stroke=\"black\" points=\"180.345,-63.468 177.594,-53.2367 173.364,-62.9508 180.345,-63.468\"/>\r\n",
       "</g>\r\n",
       "<!-- 7 -->\r\n",
       "<g id=\"node8\" class=\"node\"><title>7</title>\r\n",
       "<polygon fill=\"none\" stroke=\"black\" points=\"371,-53 266,-53 266,-0 371,-0 371,-53\"/>\r\n",
       "<text text-anchor=\"middle\" x=\"318.5\" y=\"-37.8\" font-family=\"Times New Roman,serif\" font-size=\"14.00\">entropy = 1.0</text>\r\n",
       "<text text-anchor=\"middle\" x=\"318.5\" y=\"-22.8\" font-family=\"Times New Roman,serif\" font-size=\"14.00\">samples = 6</text>\r\n",
       "<text text-anchor=\"middle\" x=\"318.5\" y=\"-7.8\" font-family=\"Times New Roman,serif\" font-size=\"14.00\">value = [0, 3, 3]</text>\r\n",
       "</g>\r\n",
       "<!-- 6&#45;&gt;7 -->\r\n",
       "<g id=\"edge7\" class=\"edge\"><title>6&#45;&gt;7</title>\r\n",
       "<path fill=\"none\" stroke=\"black\" d=\"M322.401,-88.9485C321.879,-80.7153 321.316,-71.848 320.785,-63.4814\"/>\r\n",
       "<polygon fill=\"black\" stroke=\"black\" points=\"324.261,-62.9948 320.134,-53.2367 317.275,-63.4384 324.261,-62.9948\"/>\r\n",
       "</g>\r\n",
       "<!-- 8 -->\r\n",
       "<g id=\"node9\" class=\"node\"><title>8</title>\r\n",
       "<polygon fill=\"none\" stroke=\"black\" points=\"501.5,-53 389.5,-53 389.5,-0 501.5,-0 501.5,-53\"/>\r\n",
       "<text text-anchor=\"middle\" x=\"445.5\" y=\"-37.8\" font-family=\"Times New Roman,serif\" font-size=\"14.00\">entropy = 0.0</text>\r\n",
       "<text text-anchor=\"middle\" x=\"445.5\" y=\"-22.8\" font-family=\"Times New Roman,serif\" font-size=\"14.00\">samples = 32</text>\r\n",
       "<text text-anchor=\"middle\" x=\"445.5\" y=\"-7.8\" font-family=\"Times New Roman,serif\" font-size=\"14.00\">value = [0, 0, 32]</text>\r\n",
       "</g>\r\n",
       "<!-- 6&#45;&gt;8 -->\r\n",
       "<g id=\"edge8\" class=\"edge\"><title>6&#45;&gt;8</title>\r\n",
       "<path fill=\"none\" stroke=\"black\" d=\"M366.82,-88.9485C379.002,-79.4346 392.268,-69.074 404.376,-59.6175\"/>\r\n",
       "<polygon fill=\"black\" stroke=\"black\" points=\"406.819,-62.1504 412.546,-53.2367 402.511,-56.6335 406.819,-62.1504\"/>\r\n",
       "</g>\r\n",
       "</g>\r\n",
       "</svg>\r\n"
      ],
      "text/plain": [
       "<graphviz.files.Source at 0x25eb0127cf8>"
      ]
     },
     "execution_count": 51,
     "metadata": {},
     "output_type": "execute_result"
    }
   ],
   "source": [
    "Source(text)"
   ]
  },
  {
   "cell_type": "markdown",
   "metadata": {},
   "source": [
    "## Cross de variación"
   ]
  },
  {
   "cell_type": "code",
   "execution_count": 52,
   "metadata": {},
   "outputs": [],
   "source": [
    "X = data[predictors]\n",
    "Y = data[target]"
   ]
  },
  {
   "cell_type": "code",
   "execution_count": 53,
   "metadata": {},
   "outputs": [
    {
     "data": {
      "text/plain": [
       "DecisionTreeClassifier(class_weight=None, criterion='entropy', max_depth=5,\n",
       "                       max_features=None, max_leaf_nodes=None,\n",
       "                       min_impurity_decrease=0.0, min_impurity_split=None,\n",
       "                       min_samples_leaf=1, min_samples_split=20,\n",
       "                       min_weight_fraction_leaf=0.0, presort=False,\n",
       "                       random_state=99, splitter='best')"
      ]
     },
     "execution_count": 53,
     "metadata": {},
     "output_type": "execute_result"
    }
   ],
   "source": [
    "tree = DecisionTreeClassifier(criterion=\"entropy\", max_depth=5, min_samples_split=20, random_state=99)\n",
    "tree.fit(X, Y)\n"
   ]
  },
  {
   "cell_type": "code",
   "execution_count": 56,
   "metadata": {},
   "outputs": [],
   "source": [
    "from sklearn.model_selection import KFold"
   ]
  },
  {
   "cell_type": "code",
   "execution_count": 65,
   "metadata": {},
   "outputs": [],
   "source": [
    "cv = KFold(n_splits= 10, shuffle=True, random_state=1)"
   ]
  },
  {
   "cell_type": "code",
   "execution_count": 59,
   "metadata": {},
   "outputs": [],
   "source": [
    "from sklearn.model_selection import cross_val_score"
   ]
  },
  {
   "cell_type": "code",
   "execution_count": 66,
   "metadata": {},
   "outputs": [],
   "source": [
    "score = np.mean(cross_val_score(tree, X, Y, scoring=\"accuracy\", cv = cv, n_jobs=1))"
   ]
  },
  {
   "cell_type": "code",
   "execution_count": 67,
   "metadata": {},
   "outputs": [
    {
     "data": {
      "text/plain": [
       "0.9333333333333333"
      ]
     },
     "execution_count": 67,
     "metadata": {},
     "output_type": "execute_result"
    }
   ],
   "source": [
    "score"
   ]
  },
  {
   "cell_type": "code",
   "execution_count": 71,
   "metadata": {},
   "outputs": [
    {
     "name": "stdout",
     "output_type": "stream",
     "text": [
      "Socre para i =  1  es de  0.5666666666666667\n",
      "    [0. 0. 1. 0.]\n",
      "Socre para i =  2  es de  0.9200000000000002\n",
      "    [0.         0.         0.66620285 0.33379715]\n",
      "Socre para i =  3  es de  0.9400000000000001\n",
      "    [0.         0.         0.68976981 0.31023019]\n",
      "Socre para i =  4  es de  0.9333333333333333\n",
      "    [0.         0.         0.66869158 0.33130842]\n",
      "Socre para i =  5  es de  0.9333333333333333\n",
      "    [0.         0.         0.66869158 0.33130842]\n",
      "Socre para i =  6  es de  0.9333333333333333\n",
      "    [0.         0.         0.66869158 0.33130842]\n",
      "Socre para i =  7  es de  0.9333333333333333\n",
      "    [0.         0.         0.66869158 0.33130842]\n",
      "Socre para i =  8  es de  0.9333333333333333\n",
      "    [0.         0.         0.66869158 0.33130842]\n",
      "Socre para i =  9  es de  0.9333333333333333\n",
      "    [0.         0.         0.66869158 0.33130842]\n",
      "Socre para i =  10  es de  0.9333333333333333\n",
      "    [0.         0.         0.66869158 0.33130842]\n"
     ]
    }
   ],
   "source": [
    "for i in range(1, 11):\n",
    "    tree = DecisionTreeClassifier(criterion=\"entropy\", max_depth=i, min_samples_split=20, random_state=99)\n",
    "    tree.fit(X, Y)\n",
    "    cv = KFold(n_splits= 10, shuffle=True, random_state=1)\n",
    "    scores = cross_val_score(tree, X, Y, scoring=\"accuracy\", cv = cv, n_jobs=1)\n",
    "    score = np.mean(scores)\n",
    "    print(\"Socre para i = \",i,\" es de \", score)\n",
    "    print(\"   \", tree.feature_importances_)#Aquí sacamos que datos utiliza para clasificar"
   ]
  },
  {
   "cell_type": "code",
   "execution_count": 72,
   "metadata": {},
   "outputs": [
    {
     "data": {
      "text/plain": [
       "['Sepal.Length', 'Sepal.Width', 'Petal.Length', 'Petal.Width']"
      ]
     },
     "execution_count": 72,
     "metadata": {},
     "output_type": "execute_result"
    }
   ],
   "source": [
    "predictors"
   ]
  },
  {
   "cell_type": "code",
   "execution_count": 75,
   "metadata": {},
   "outputs": [
    {
     "name": "stdout",
     "output_type": "stream",
     "text": [
      "Socre para i =  1  es de  0.5258928571428572\n",
      "    [0. 0. 1. 0.]\n",
      "Socre para i =  2  es de  0.9303571428571429\n",
      "    [0.         0.         0.66620285 0.33379715]\n",
      "Socre para i =  3  es de  0.925\n",
      "    [0.         0.         0.68976981 0.31023019]\n",
      "Socre para i =  4  es de  0.9178571428571429\n",
      "    [0.         0.         0.66869158 0.33130842]\n",
      "Socre para i =  5  es de  0.9178571428571429\n",
      "    [0.         0.         0.66869158 0.33130842]\n",
      "Socre para i =  6  es de  0.9178571428571429\n",
      "    [0.         0.         0.66869158 0.33130842]\n",
      "Socre para i =  7  es de  0.9178571428571429\n",
      "    [0.         0.         0.66869158 0.33130842]\n",
      "Socre para i =  8  es de  0.9178571428571429\n",
      "    [0.         0.         0.66869158 0.33130842]\n",
      "Socre para i =  9  es de  0.9178571428571429\n",
      "    [0.         0.         0.66869158 0.33130842]\n",
      "Socre para i =  10  es de  0.9178571428571429\n",
      "    [0.         0.         0.66869158 0.33130842]\n"
     ]
    }
   ],
   "source": [
    "for i in range(1, 11):\n",
    "    tree = DecisionTreeClassifier(criterion=\"entropy\", max_depth=i, min_samples_split=20, random_state=99)\n",
    "    tree.fit(X, Y)\n",
    "    cv = KFold(n_splits= 20, shuffle=True, random_state=1)\n",
    "    scores = cross_val_score(tree, X, Y, scoring=\"accuracy\", cv = cv, n_jobs=1)\n",
    "    score = np.mean(scores)\n",
    "    print(\"Socre para i = \",i,\" es de \", score)\n",
    "    print(\"   \", tree.feature_importances_)#Aquí sacamos que datos utiliza para clasificar"
   ]
  },
  {
   "cell_type": "code",
   "execution_count": null,
   "metadata": {},
   "outputs": [],
   "source": []
  },
  {
   "cell_type": "code",
   "execution_count": null,
   "metadata": {},
   "outputs": [],
   "source": []
  }
 ],
 "metadata": {
  "kernelspec": {
   "display_name": "Python 3",
   "language": "python",
   "name": "python3"
  },
  "language_info": {
   "codemirror_mode": {
    "name": "ipython",
    "version": 3
   },
   "file_extension": ".py",
   "mimetype": "text/x-python",
   "name": "python",
   "nbconvert_exporter": "python",
   "pygments_lexer": "ipython3",
   "version": "3.7.3"
  }
 },
 "nbformat": 4,
 "nbformat_minor": 2
}
