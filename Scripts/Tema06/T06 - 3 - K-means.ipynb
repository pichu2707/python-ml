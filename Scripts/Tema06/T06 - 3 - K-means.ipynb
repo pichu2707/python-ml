{
 "cells": [
  {
   "cell_type": "markdown",
   "metadata": {},
   "source": [
    "# El método de k-means"
   ]
  },
  {
   "cell_type": "code",
   "execution_count": 1,
   "metadata": {},
   "outputs": [],
   "source": [
    "import numpy as np"
   ]
  },
  {
   "cell_type": "code",
   "execution_count": 2,
   "metadata": {},
   "outputs": [
    {
     "data": {
      "text/plain": [
       "array([[-0.5647587 ,  0.56428645, -1.35522483],\n",
       "       [-0.08462202, -1.49303728, -1.70757341],\n",
       "       [ 0.19999781,  0.71739616,  0.73654303],\n",
       "       [ 0.59733288, -0.64124877,  0.14066928],\n",
       "       [ 0.18804938,  0.14889454, -0.30205748],\n",
       "       [-0.37725392, -1.40954297,  0.10031517],\n",
       "       [-1.59911823, -0.04659591, -0.32750122],\n",
       "       [ 0.63993437,  1.55805811, -0.77529374],\n",
       "       [ 1.7756349 ,  0.99698601,  0.60656524],\n",
       "       [ 0.33781233,  0.52830174,  0.42880322],\n",
       "       [ 2.07599923,  1.17900175,  0.102801  ],\n",
       "       [-0.3517252 , -1.67497599,  2.20104503],\n",
       "       [ 1.10882555,  0.67421164, -1.21191719],\n",
       "       [-0.06879081,  0.60928457,  1.87682977],\n",
       "       [ 1.11872433,  0.13881255,  0.32084562],\n",
       "       [ 0.50841196,  0.28811667,  2.23555688],\n",
       "       [-0.81338267,  0.17619139, -0.52885229],\n",
       "       [-0.70077877,  0.18324692, -1.26236386],\n",
       "       [ 1.30135423, -0.11828926,  0.29106689],\n",
       "       [-0.78713689, -1.68460037,  1.44240355],\n",
       "       [-2.34686551,  0.93572115, -0.09469512],\n",
       "       [-0.19529154,  0.61071488,  0.62929154],\n",
       "       [ 0.44068261,  0.37963284,  0.7490819 ],\n",
       "       [ 1.11398589,  1.27861608,  0.74883103],\n",
       "       [-0.50806647, -2.652333  ,  0.04620736],\n",
       "       [-1.52469479, -0.5984678 , -1.50382389],\n",
       "       [-1.13421625,  0.29314862,  0.6539859 ],\n",
       "       [ 1.65653762,  0.55967243, -0.13034168],\n",
       "       [-1.72104243, -1.43559705,  0.96006121],\n",
       "       [ 0.81338406,  0.0132645 , -0.97481986]])"
      ]
     },
     "execution_count": 2,
     "metadata": {},
     "output_type": "execute_result"
    }
   ],
   "source": [
    "data = np.random.randn(90).reshape(30, 3)\n",
    "data"
   ]
  },
  {
   "cell_type": "code",
   "execution_count": 4,
   "metadata": {},
   "outputs": [
    {
     "data": {
      "text/plain": [
       "array([[ 1.11398589,  1.27861608,  0.74883103],\n",
       "       [-0.81338267,  0.17619139, -0.52885229]])"
      ]
     },
     "execution_count": 4,
     "metadata": {},
     "output_type": "execute_result"
    }
   ],
   "source": [
    "c1 = np.random.choice(range(len(data)))\n",
    "c2 = np.random.choice(range(len(data)))\n",
    "clust_centers = np.vstack([data[c1], data[c2]])\n",
    "clust_centers"
   ]
  },
  {
   "cell_type": "code",
   "execution_count": 5,
   "metadata": {},
   "outputs": [],
   "source": [
    "from scipy.cluster.vq import vq"
   ]
  },
  {
   "cell_type": "code",
   "execution_count": 6,
   "metadata": {},
   "outputs": [
    {
     "data": {
      "text/plain": [
       "(array([1, 1, 0, 1, 1, 1, 1, 0, 0, 0, 0, 1, 0, 0, 0, 0, 1, 1, 0, 1, 1, 1,\n",
       "        0, 0, 1, 1, 1, 0, 1, 1]),\n",
       " array([0.94621521, 2.16951605, 1.07261037, 1.76255097, 1.02715489,\n",
       "        1.76085588, 0.84116396, 1.62042248, 0.73303102, 1.1259817 ,\n",
       "        1.16307674, 3.33050861, 2.05179553, 1.76616719, 1.21751634,\n",
       "        1.88630926, 0.        , 0.74213789, 1.48189049, 2.71091947,\n",
       "        1.7654879 , 1.38280311, 1.12316884, 0.        , 2.90249234,\n",
       "        1.43409602, 1.23114555, 1.25864491, 2.37456767, 1.69463927]))"
      ]
     },
     "execution_count": 6,
     "metadata": {},
     "output_type": "execute_result"
    }
   ],
   "source": [
    "vq(data, clust_centers)"
   ]
  },
  {
   "cell_type": "code",
   "execution_count": 8,
   "metadata": {},
   "outputs": [],
   "source": [
    "from scipy.cluster.vq import kmeans"
   ]
  },
  {
   "cell_type": "code",
   "execution_count": 9,
   "metadata": {},
   "outputs": [
    {
     "data": {
      "text/plain": [
       "(array([[ 0.80074028,  0.52478979,  0.32190914],\n",
       "        [-0.96258937, -0.6801966 , -0.10584742]]), 1.332638596843851)"
      ]
     },
     "execution_count": 9,
     "metadata": {},
     "output_type": "execute_result"
    }
   ],
   "source": [
    "kmeans(data, clust_centers)"
   ]
  },
  {
   "cell_type": "code",
   "execution_count": 10,
   "metadata": {},
   "outputs": [],
   "source": [
    "# 1.332638596843851) esta es la separación global del sistema"
   ]
  },
  {
   "cell_type": "code",
   "execution_count": 11,
   "metadata": {},
   "outputs": [
    {
     "data": {
      "text/plain": [
       "(array([[ 0.80074028,  0.52478979,  0.32190914],\n",
       "        [-0.96258937, -0.6801966 , -0.10584742]]), 1.332638596843851)"
      ]
     },
     "execution_count": 11,
     "metadata": {},
     "output_type": "execute_result"
    }
   ],
   "source": [
    "kmeans(data,2)"
   ]
  }
 ],
 "metadata": {
  "kernelspec": {
   "display_name": "Python 3",
   "language": "python",
   "name": "python3"
  },
  "language_info": {
   "codemirror_mode": {
    "name": "ipython",
    "version": 3
   },
   "file_extension": ".py",
   "mimetype": "text/x-python",
   "name": "python",
   "nbconvert_exporter": "python",
   "pygments_lexer": "ipython3",
   "version": "3.7.3"
  }
 },
 "nbformat": 4,
 "nbformat_minor": 2
}
