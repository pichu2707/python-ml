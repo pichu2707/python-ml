{
 "cells": [
  {
   "cell_type": "markdown",
   "metadata": {},
   "source": [
    "# Cómo trabajar con matrices"
   ]
  },
  {
   "cell_type": "code",
   "execution_count": 1,
   "metadata": {},
   "outputs": [],
   "source": [
    "import tensorflow as tf\n",
    "session = tf.Session()"
   ]
  },
  {
   "cell_type": "markdown",
   "metadata": {},
   "source": [
    "    # 1. Cómo crear matrices"
   ]
  },
  {
   "cell_type": "code",
   "execution_count": 22,
   "metadata": {},
   "outputs": [
    {
     "name": "stdout",
     "output_type": "stream",
     "text": [
      "[[1. 0. 0. 0.]\n",
      " [0. 1. 0. 0.]\n",
      " [0. 0. 1. 0.]\n",
      " [0. 0. 0. 1.]]\n"
     ]
    }
   ],
   "source": [
    "identity = tf.diag([1.,1.,1.,1.])\n",
    "print(session.run(identity))"
   ]
  },
  {
   "cell_type": "code",
   "execution_count": 15,
   "metadata": {},
   "outputs": [
    {
     "name": "stdout",
     "output_type": "stream",
     "text": [
      "[[ 0.05988906  0.2995626   0.10178139 -0.06683255]\n",
      " [-0.5365283  -0.08662734  1.1356523   0.6725444 ]\n",
      " [ 0.08891995  0.61007124 -0.9388424  -0.5438467 ]]\n"
     ]
    }
   ],
   "source": [
    "A = tf.truncated_normal([3,4])\n",
    "print(session.run(A))"
   ]
  },
  {
   "cell_type": "code",
   "execution_count": 16,
   "metadata": {},
   "outputs": [
    {
     "name": "stdout",
     "output_type": "stream",
     "text": [
      "[[1998. 1998. 1998. 1998.]\n",
      " [1998. 1998. 1998. 1998.]\n",
      " [1998. 1998. 1998. 1998.]]\n"
     ]
    }
   ],
   "source": [
    "B = tf.fill([3,4], 1998.)\n",
    "print(session.run(B))"
   ]
  },
  {
   "cell_type": "code",
   "execution_count": 14,
   "metadata": {},
   "outputs": [
    {
     "name": "stdout",
     "output_type": "stream",
     "text": [
      "[[0.82250583 0.52378106 0.85798657]\n",
      " [0.6978015  0.5377128  0.87457097]\n",
      " [0.8017925  0.16862774 0.7122164 ]\n",
      " [0.8195206  0.26692927 0.7921016 ]]\n"
     ]
    }
   ],
   "source": [
    "C = tf.random_uniform([4,3])\n",
    "print(session.run(C))"
   ]
  },
  {
   "cell_type": "code",
   "execution_count": 9,
   "metadata": {},
   "outputs": [
    {
     "name": "stdout",
     "output_type": "stream",
     "text": [
      "[[1. 2. 3.]\n",
      " [4. 5. 6.]\n",
      " [7. 8. 9.]]\n"
     ]
    }
   ],
   "source": [
    "import numpy as np\n",
    "data = np.array([[1.,2.,3.],[4.,5.,6.],[7.,8.,9.]])\n",
    "D = tf.convert_to_tensor(data)\n",
    "print(session.run(D))"
   ]
  },
  {
   "cell_type": "markdown",
   "metadata": {},
   "source": [
    "# Operar con matrices"
   ]
  },
  {
   "cell_type": "code",
   "execution_count": 17,
   "metadata": {},
   "outputs": [
    {
     "name": "stdout",
     "output_type": "stream",
     "text": [
      "[[1997.803  1997.0276 1997.6293 1998.4528]\n",
      " [1999.9346 1997.8871 1996.7246 1997.4604]\n",
      " [1998.0796 1998.8772 1998.1641 1996.3694]]\n"
     ]
    }
   ],
   "source": [
    "print(session.run(A+B))"
   ]
  },
  {
   "cell_type": "code",
   "execution_count": 18,
   "metadata": {},
   "outputs": [
    {
     "name": "stdout",
     "output_type": "stream",
     "text": [
      "[[0. 0. 0. 0.]\n",
      " [0. 0. 0. 0.]\n",
      " [0. 0. 0. 0.]]\n"
     ]
    }
   ],
   "source": [
    "print(session.run(B-B))"
   ]
  },
  {
   "cell_type": "code",
   "execution_count": 19,
   "metadata": {},
   "outputs": [
    {
     "name": "stdout",
     "output_type": "stream",
     "text": [
      "[[ 2.0957785   2.471104    0.6220422 ]\n",
      " [-1.3202809  -1.7348678  -0.07629025]\n",
      " [-0.9680356   0.6345491  -0.38241246]]\n"
     ]
    }
   ],
   "source": [
    "print(session.run(tf.matmul(A,C))) #Multiplicación de matrices"
   ]
  },
  {
   "cell_type": "code",
   "execution_count": 23,
   "metadata": {},
   "outputs": [
    {
     "name": "stdout",
     "output_type": "stream",
     "text": [
      "[[-1.4758481  -0.41078517  1.4495059  -0.48014337]\n",
      " [-0.6704368  -0.65612847  0.00831523  0.3548104 ]\n",
      " [-0.25585264  1.0430727   0.7373843   0.65321994]]\n"
     ]
    }
   ],
   "source": [
    "print(session.run(tf.matmul(A, identity)))"
   ]
  },
  {
   "cell_type": "code",
   "execution_count": null,
   "metadata": {},
   "outputs": [],
   "source": []
  }
 ],
 "metadata": {
  "kernelspec": {
   "display_name": "Python 3",
   "language": "python",
   "name": "python3"
  },
  "language_info": {
   "codemirror_mode": {
    "name": "ipython",
    "version": 3
   },
   "file_extension": ".py",
   "mimetype": "text/x-python",
   "name": "python",
   "nbconvert_exporter": "python",
   "pygments_lexer": "ipython3",
   "version": "3.7.3"
  }
 },
 "nbformat": 4,
 "nbformat_minor": 2
}
